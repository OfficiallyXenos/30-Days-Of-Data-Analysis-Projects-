{
  "nbformat": 4,
  "nbformat_minor": 0,
  "metadata": {
    "colab": {
      "provenance": [],
      "authorship_tag": "ABX9TyPJGvrS12/9HLTnW/p8KO7D"
    },
    "kernelspec": {
      "name": "python3",
      "display_name": "Python 3"
    },
    "language_info": {
      "name": "python"
    }
  },
  "cells": [
    {
      "cell_type": "code",
      "execution_count": 3,
      "metadata": {
        "colab": {
          "base_uri": "https://localhost:8080/"
        },
        "id": "x6T4N0qcT1Lx",
        "outputId": "ff94bfd5-07e7-4384-862e-d34144940ee2"
      },
      "outputs": [
        {
          "output_type": "stream",
          "name": "stdout",
          "text": [
            "Dataset saved as 'messy_transaction_data_v2.csv'\n"
          ]
        }
      ],
      "source": [
        "import pandas as pd\n",
        "import numpy as np\n",
        "import random\n",
        "from datetime import datetime, timedelta\n",
        "\n",
        "# Set seed for reproducibility\n",
        "np.random.seed(42)\n",
        "\n",
        "# Generate synthetic data\n",
        "num_rows = 300\n",
        "\n",
        "# Generate Transaction IDs and Customer IDs\n",
        "transaction_ids = np.arange(1001, 1001 + num_rows)\n",
        "customer_ids = np.random.randint(2001, 2500, num_rows)\n",
        "\n",
        "# Generate Customer Names with more missing values\n",
        "customer_names = np.random.choice([\"Alice\", \"Bob\", \"Charlie\", \"David\", \"Emma\", None], num_rows,\n",
        "                                  p=[0.15, 0.15, 0.15, 0.15, 0.1, 0.3])  # More missing values\n",
        "\n",
        "# Generate Purchase Amounts with outliers and text values\n",
        "purchase_amounts = np.random.uniform(5, 500, num_rows).astype(str)  # Stored as strings initially\n",
        "purchase_amounts[random.randint(0, num_rows-1)] = None  # Add missing value\n",
        "purchase_amounts[random.randint(0, num_rows-1)] = \"Ten Dollars\"  # Add non-numeric value\n",
        "purchase_amounts[random.randint(0, num_rows-1)] = \"10000\"  # Add extreme outlier\n",
        "\n",
        "# Generate Transaction Dates with more inconsistencies\n",
        "transaction_dates = [(datetime.today() - timedelta(days=random.randint(0, 365))).strftime(\n",
        "    random.choice([\"%Y-%m-%d\", \"%d/%m/%Y\", \"%m-%d-%Y\", \"%B %d, %Y\"])) for _ in range(num_rows)]\n",
        "transaction_dates[random.randint(0, num_rows-1)] = None  # Add missing value\n",
        "transaction_dates[random.randint(0, num_rows-1)] = \"January 32, 2023\"  # Add incorrect date\n",
        "transaction_dates[random.randint(0, num_rows-1)] = \"2027-12-25\"  # Add future date\n",
        "\n",
        "# Generate Product Categories with typos\n",
        "product_categories = np.random.choice([\"Electronics\", \"Clothing\", \"Books\", \"Home & Kitchen\", \"Beauty\",\n",
        "                                       \"Elctronics\", \"Clothng\", \"Hme & Kitchen\"], num_rows)  # Some typos\n",
        "\n",
        "# Generate Payment Methods with inconsistencies\n",
        "payment_methods = np.random.choice([\"Credit Card\", \"credit_card\", \"Paypal\", \"PayPal\", \"BANK_TRANSFER\",\n",
        "                                    \"bank transfer\", \"banktransfer\", \"paypal \"], num_rows)  # Some extra spaces and variations\n",
        "\n",
        "# Introduce more duplicate transactions\n",
        "duplicates = 10  # Number of duplicate rows to add\n",
        "duplicate_indices = np.random.choice(num_rows, duplicates, replace=False)\n",
        "\n",
        "# Create DataFrame\n",
        "data = {\n",
        "    \"Transaction_ID\": transaction_ids.tolist(),\n",
        "    \"Customer_ID\": customer_ids.tolist(),\n",
        "    \"Customer Name\": customer_names.tolist(),\n",
        "    \"Purchase Amount ($)\": purchase_amounts,\n",
        "    \"Transaction Date\": transaction_dates,\n",
        "    \"Product Category\": product_categories.tolist(),\n",
        "    \"Payment Method\": payment_methods.tolist()\n",
        "}\n",
        "\n",
        "df_messy = pd.DataFrame(data)\n",
        "\n",
        "# Add duplicate rows\n",
        "df_messy = pd.concat([df_messy, df_messy.iloc[duplicate_indices]], ignore_index=True)\n",
        "\n",
        "# Save dataset\n",
        "df_messy.to_csv(\"messy_transaction_data_v2.csv\", index=False)\n",
        "\n",
        "print(\"Dataset saved as 'messy_transaction_data_v2.csv'\")\n"
      ]
    },
    {
      "cell_type": "code",
      "source": [
        "df = pd.read_csv(\"messy_transaction_data_v2.csv\")\n",
        "df.head()\n",
        "df.shape\n",
        "df.info()"
      ],
      "metadata": {
        "colab": {
          "base_uri": "https://localhost:8080/"
        },
        "id": "uw52dAPhUGcS",
        "outputId": "16a58cf5-aa83-4101-ed72-03616b219309"
      },
      "execution_count": 4,
      "outputs": [
        {
          "output_type": "stream",
          "name": "stdout",
          "text": [
            "<class 'pandas.core.frame.DataFrame'>\n",
            "RangeIndex: 310 entries, 0 to 309\n",
            "Data columns (total 7 columns):\n",
            " #   Column               Non-Null Count  Dtype \n",
            "---  ------               --------------  ----- \n",
            " 0   Transaction_ID       310 non-null    int64 \n",
            " 1   Customer_ID          310 non-null    int64 \n",
            " 2   Customer Name        218 non-null    object\n",
            " 3   Purchase Amount ($)  309 non-null    object\n",
            " 4   Transaction Date     309 non-null    object\n",
            " 5   Product Category     310 non-null    object\n",
            " 6   Payment Method       310 non-null    object\n",
            "dtypes: int64(2), object(5)\n",
            "memory usage: 17.1+ KB\n"
          ]
        }
      ]
    },
    {
      "cell_type": "code",
      "source": [
        "df.columns"
      ],
      "metadata": {
        "colab": {
          "base_uri": "https://localhost:8080/"
        },
        "id": "lHVEH9alUOMB",
        "outputId": "54f4c43b-6813-4b4d-c0e3-e0d00bf1cc34"
      },
      "execution_count": 5,
      "outputs": [
        {
          "output_type": "execute_result",
          "data": {
            "text/plain": [
              "Index(['Transaction_ID', 'Customer_ID', 'Customer Name', 'Purchase Amount ($)',\n",
              "       'Transaction Date', 'Product Category', 'Payment Method'],\n",
              "      dtype='object')"
            ]
          },
          "metadata": {},
          "execution_count": 5
        }
      ]
    },
    {
      "cell_type": "markdown",
      "source": [
        "# 1️⃣ Handling Missing Values"
      ],
      "metadata": {
        "id": "VmvYYTm2eAKe"
      }
    },
    {
      "cell_type": "code",
      "source": [
        "# Check for missing values in the dataset.\n",
        "df.isnull().sum()"
      ],
      "metadata": {
        "colab": {
          "base_uri": "https://localhost:8080/",
          "height": 303
        },
        "collapsed": true,
        "id": "qO0AUw4QeCfd",
        "outputId": "aa89ffe0-f8bc-401d-d251-90807ff32a2f"
      },
      "execution_count": 6,
      "outputs": [
        {
          "output_type": "execute_result",
          "data": {
            "text/plain": [
              "Transaction_ID          0\n",
              "Customer_ID             0\n",
              "Customer Name          92\n",
              "Purchase Amount ($)     1\n",
              "Transaction Date        1\n",
              "Product Category        0\n",
              "Payment Method          0\n",
              "dtype: int64"
            ],
            "text/html": [
              "<div>\n",
              "<style scoped>\n",
              "    .dataframe tbody tr th:only-of-type {\n",
              "        vertical-align: middle;\n",
              "    }\n",
              "\n",
              "    .dataframe tbody tr th {\n",
              "        vertical-align: top;\n",
              "    }\n",
              "\n",
              "    .dataframe thead th {\n",
              "        text-align: right;\n",
              "    }\n",
              "</style>\n",
              "<table border=\"1\" class=\"dataframe\">\n",
              "  <thead>\n",
              "    <tr style=\"text-align: right;\">\n",
              "      <th></th>\n",
              "      <th>0</th>\n",
              "    </tr>\n",
              "  </thead>\n",
              "  <tbody>\n",
              "    <tr>\n",
              "      <th>Transaction_ID</th>\n",
              "      <td>0</td>\n",
              "    </tr>\n",
              "    <tr>\n",
              "      <th>Customer_ID</th>\n",
              "      <td>0</td>\n",
              "    </tr>\n",
              "    <tr>\n",
              "      <th>Customer Name</th>\n",
              "      <td>92</td>\n",
              "    </tr>\n",
              "    <tr>\n",
              "      <th>Purchase Amount ($)</th>\n",
              "      <td>1</td>\n",
              "    </tr>\n",
              "    <tr>\n",
              "      <th>Transaction Date</th>\n",
              "      <td>1</td>\n",
              "    </tr>\n",
              "    <tr>\n",
              "      <th>Product Category</th>\n",
              "      <td>0</td>\n",
              "    </tr>\n",
              "    <tr>\n",
              "      <th>Payment Method</th>\n",
              "      <td>0</td>\n",
              "    </tr>\n",
              "  </tbody>\n",
              "</table>\n",
              "</div><br><label><b>dtype:</b> int64</label>"
            ]
          },
          "metadata": {},
          "execution_count": 6
        }
      ]
    },
    {
      "cell_type": "code",
      "source": [
        "# Fill missing values in Customer Name with \"Unknown\".\n",
        "df[\"Customer Name\"].fillna(\"Unknown\", inplace=True)\n",
        "df.isnull().sum()"
      ],
      "metadata": {
        "colab": {
          "base_uri": "https://localhost:8080/",
          "height": 451
        },
        "collapsed": true,
        "id": "8RbptBTJeL0u",
        "outputId": "05535f1e-e68e-474a-aa53-f2a591e6ca61"
      },
      "execution_count": 7,
      "outputs": [
        {
          "output_type": "stream",
          "name": "stderr",
          "text": [
            "<ipython-input-7-b8d44bdef80a>:2: FutureWarning: A value is trying to be set on a copy of a DataFrame or Series through chained assignment using an inplace method.\n",
            "The behavior will change in pandas 3.0. This inplace method will never work because the intermediate object on which we are setting values always behaves as a copy.\n",
            "\n",
            "For example, when doing 'df[col].method(value, inplace=True)', try using 'df.method({col: value}, inplace=True)' or df[col] = df[col].method(value) instead, to perform the operation inplace on the original object.\n",
            "\n",
            "\n",
            "  df[\"Customer Name\"].fillna(\"Unknown\", inplace=True)\n"
          ]
        },
        {
          "output_type": "execute_result",
          "data": {
            "text/plain": [
              "Transaction_ID         0\n",
              "Customer_ID            0\n",
              "Customer Name          0\n",
              "Purchase Amount ($)    1\n",
              "Transaction Date       1\n",
              "Product Category       0\n",
              "Payment Method         0\n",
              "dtype: int64"
            ],
            "text/html": [
              "<div>\n",
              "<style scoped>\n",
              "    .dataframe tbody tr th:only-of-type {\n",
              "        vertical-align: middle;\n",
              "    }\n",
              "\n",
              "    .dataframe tbody tr th {\n",
              "        vertical-align: top;\n",
              "    }\n",
              "\n",
              "    .dataframe thead th {\n",
              "        text-align: right;\n",
              "    }\n",
              "</style>\n",
              "<table border=\"1\" class=\"dataframe\">\n",
              "  <thead>\n",
              "    <tr style=\"text-align: right;\">\n",
              "      <th></th>\n",
              "      <th>0</th>\n",
              "    </tr>\n",
              "  </thead>\n",
              "  <tbody>\n",
              "    <tr>\n",
              "      <th>Transaction_ID</th>\n",
              "      <td>0</td>\n",
              "    </tr>\n",
              "    <tr>\n",
              "      <th>Customer_ID</th>\n",
              "      <td>0</td>\n",
              "    </tr>\n",
              "    <tr>\n",
              "      <th>Customer Name</th>\n",
              "      <td>0</td>\n",
              "    </tr>\n",
              "    <tr>\n",
              "      <th>Purchase Amount ($)</th>\n",
              "      <td>1</td>\n",
              "    </tr>\n",
              "    <tr>\n",
              "      <th>Transaction Date</th>\n",
              "      <td>1</td>\n",
              "    </tr>\n",
              "    <tr>\n",
              "      <th>Product Category</th>\n",
              "      <td>0</td>\n",
              "    </tr>\n",
              "    <tr>\n",
              "      <th>Payment Method</th>\n",
              "      <td>0</td>\n",
              "    </tr>\n",
              "  </tbody>\n",
              "</table>\n",
              "</div><br><label><b>dtype:</b> int64</label>"
            ]
          },
          "metadata": {},
          "execution_count": 7
        }
      ]
    },
    {
      "cell_type": "code",
      "source": [
        "def to_snake_case(column_name):\n",
        "    snake_chars = []\n",
        "    prev_underscore = False  # Track if previous character was an underscore\n",
        "\n",
        "    for char in column_name:\n",
        "        lower_char = char.lower()\n",
        "\n",
        "        # Keep letters, numbers, and existing underscores\n",
        "        if lower_char.isalnum() or lower_char == '_':\n",
        "            if lower_char == '_':\n",
        "                # Add underscore only if previous wasn't an underscore\n",
        "                if not prev_underscore:\n",
        "                    snake_chars.append('_')\n",
        "                    prev_underscore = True\n",
        "            else:\n",
        "                snake_chars.append(lower_char)\n",
        "                prev_underscore = False\n",
        "        # Replace all other characters with underscores\n",
        "        else:\n",
        "            if not prev_underscore:\n",
        "                snake_chars.append('_')\n",
        "                prev_underscore = True\n",
        "\n",
        "    # Join characters and clean up edges\n",
        "    result = ''.join(snake_chars).strip('_')\n",
        "    # Handle empty strings from names with only special characters\n",
        "    return result if result else '_'\n",
        "\n",
        "# Apply the conversion to all column names\n",
        "df.columns = [to_snake_case(col) for col in df.columns]\n",
        "df.columns"
      ],
      "metadata": {
        "colab": {
          "base_uri": "https://localhost:8080/"
        },
        "id": "9NKSMj2Xeg19",
        "outputId": "209154e7-6518-4785-f1db-38ac0e588786"
      },
      "execution_count": 31,
      "outputs": [
        {
          "output_type": "execute_result",
          "data": {
            "text/plain": [
              "Index(['transaction_id', 'customer_id', 'customer_name', 'purchase_amount',\n",
              "       'transaction_date', 'product_category', 'payment_method'],\n",
              "      dtype='object')"
            ]
          },
          "metadata": {},
          "execution_count": 31
        }
      ]
    },
    {
      "cell_type": "code",
      "source": [],
      "metadata": {
        "id": "E10iCJ_VbA5L"
      },
      "execution_count": 22,
      "outputs": []
    }
  ]
}