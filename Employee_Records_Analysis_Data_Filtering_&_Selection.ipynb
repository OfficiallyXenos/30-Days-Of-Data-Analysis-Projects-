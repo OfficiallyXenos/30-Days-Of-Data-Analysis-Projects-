{
  "nbformat": 4,
  "nbformat_minor": 0,
  "metadata": {
    "colab": {
      "provenance": [],
      "authorship_tag": "ABX9TyMgQ+Jj+9/AUBXUjz+8YX7V"
    },
    "kernelspec": {
      "name": "python3",
      "display_name": "Python 3"
    },
    "language_info": {
      "name": "python"
    }
  },
  "cells": [
    {
      "cell_type": "code",
      "execution_count": 1,
      "metadata": {
        "colab": {
          "base_uri": "https://localhost:8080/",
          "height": 206
        },
        "id": "CvdT5rB-_QDm",
        "outputId": "f9d62bca-07c9-485e-b68f-90b308e6c701"
      },
      "outputs": [
        {
          "output_type": "execute_result",
          "data": {
            "text/plain": [
              "   Employee_ID   Name  Age Department  Salary ($)   Join_Date  \\\n",
              "0        10001   Liam   48      Sales      193637  2005-12-31   \n",
              "1        10002  David   51         IT      168107  2022-01-13   \n",
              "2        10003  Mason   51  Marketing      172319  2021-03-18   \n",
              "3        10004   Emma   24         IT       32579  2024-01-15   \n",
              "4        10005   Liam   64      Sales      192220  2007-12-02   \n",
              "\n",
              "   Performance_Score Promoted Work_Location Employment_Type  \n",
              "0                  9       No        Hybrid       Full-time  \n",
              "1                  8       No        Remote        Contract  \n",
              "2                  7       No        Remote       Full-time  \n",
              "3                  9       No        Office       Part-time  \n",
              "4                  4       No        Office        Contract  "
            ],
            "text/html": [
              "\n",
              "  <div id=\"df-aa438e48-b12c-47c5-990e-71967bf8780e\" class=\"colab-df-container\">\n",
              "    <div>\n",
              "<style scoped>\n",
              "    .dataframe tbody tr th:only-of-type {\n",
              "        vertical-align: middle;\n",
              "    }\n",
              "\n",
              "    .dataframe tbody tr th {\n",
              "        vertical-align: top;\n",
              "    }\n",
              "\n",
              "    .dataframe thead th {\n",
              "        text-align: right;\n",
              "    }\n",
              "</style>\n",
              "<table border=\"1\" class=\"dataframe\">\n",
              "  <thead>\n",
              "    <tr style=\"text-align: right;\">\n",
              "      <th></th>\n",
              "      <th>Employee_ID</th>\n",
              "      <th>Name</th>\n",
              "      <th>Age</th>\n",
              "      <th>Department</th>\n",
              "      <th>Salary ($)</th>\n",
              "      <th>Join_Date</th>\n",
              "      <th>Performance_Score</th>\n",
              "      <th>Promoted</th>\n",
              "      <th>Work_Location</th>\n",
              "      <th>Employment_Type</th>\n",
              "    </tr>\n",
              "  </thead>\n",
              "  <tbody>\n",
              "    <tr>\n",
              "      <th>0</th>\n",
              "      <td>10001</td>\n",
              "      <td>Liam</td>\n",
              "      <td>48</td>\n",
              "      <td>Sales</td>\n",
              "      <td>193637</td>\n",
              "      <td>2005-12-31</td>\n",
              "      <td>9</td>\n",
              "      <td>No</td>\n",
              "      <td>Hybrid</td>\n",
              "      <td>Full-time</td>\n",
              "    </tr>\n",
              "    <tr>\n",
              "      <th>1</th>\n",
              "      <td>10002</td>\n",
              "      <td>David</td>\n",
              "      <td>51</td>\n",
              "      <td>IT</td>\n",
              "      <td>168107</td>\n",
              "      <td>2022-01-13</td>\n",
              "      <td>8</td>\n",
              "      <td>No</td>\n",
              "      <td>Remote</td>\n",
              "      <td>Contract</td>\n",
              "    </tr>\n",
              "    <tr>\n",
              "      <th>2</th>\n",
              "      <td>10003</td>\n",
              "      <td>Mason</td>\n",
              "      <td>51</td>\n",
              "      <td>Marketing</td>\n",
              "      <td>172319</td>\n",
              "      <td>2021-03-18</td>\n",
              "      <td>7</td>\n",
              "      <td>No</td>\n",
              "      <td>Remote</td>\n",
              "      <td>Full-time</td>\n",
              "    </tr>\n",
              "    <tr>\n",
              "      <th>3</th>\n",
              "      <td>10004</td>\n",
              "      <td>Emma</td>\n",
              "      <td>24</td>\n",
              "      <td>IT</td>\n",
              "      <td>32579</td>\n",
              "      <td>2024-01-15</td>\n",
              "      <td>9</td>\n",
              "      <td>No</td>\n",
              "      <td>Office</td>\n",
              "      <td>Part-time</td>\n",
              "    </tr>\n",
              "    <tr>\n",
              "      <th>4</th>\n",
              "      <td>10005</td>\n",
              "      <td>Liam</td>\n",
              "      <td>64</td>\n",
              "      <td>Sales</td>\n",
              "      <td>192220</td>\n",
              "      <td>2007-12-02</td>\n",
              "      <td>4</td>\n",
              "      <td>No</td>\n",
              "      <td>Office</td>\n",
              "      <td>Contract</td>\n",
              "    </tr>\n",
              "  </tbody>\n",
              "</table>\n",
              "</div>\n",
              "    <div class=\"colab-df-buttons\">\n",
              "\n",
              "  <div class=\"colab-df-container\">\n",
              "    <button class=\"colab-df-convert\" onclick=\"convertToInteractive('df-aa438e48-b12c-47c5-990e-71967bf8780e')\"\n",
              "            title=\"Convert this dataframe to an interactive table.\"\n",
              "            style=\"display:none;\">\n",
              "\n",
              "  <svg xmlns=\"http://www.w3.org/2000/svg\" height=\"24px\" viewBox=\"0 -960 960 960\">\n",
              "    <path d=\"M120-120v-720h720v720H120Zm60-500h600v-160H180v160Zm220 220h160v-160H400v160Zm0 220h160v-160H400v160ZM180-400h160v-160H180v160Zm440 0h160v-160H620v160ZM180-180h160v-160H180v160Zm440 0h160v-160H620v160Z\"/>\n",
              "  </svg>\n",
              "    </button>\n",
              "\n",
              "  <style>\n",
              "    .colab-df-container {\n",
              "      display:flex;\n",
              "      gap: 12px;\n",
              "    }\n",
              "\n",
              "    .colab-df-convert {\n",
              "      background-color: #E8F0FE;\n",
              "      border: none;\n",
              "      border-radius: 50%;\n",
              "      cursor: pointer;\n",
              "      display: none;\n",
              "      fill: #1967D2;\n",
              "      height: 32px;\n",
              "      padding: 0 0 0 0;\n",
              "      width: 32px;\n",
              "    }\n",
              "\n",
              "    .colab-df-convert:hover {\n",
              "      background-color: #E2EBFA;\n",
              "      box-shadow: 0px 1px 2px rgba(60, 64, 67, 0.3), 0px 1px 3px 1px rgba(60, 64, 67, 0.15);\n",
              "      fill: #174EA6;\n",
              "    }\n",
              "\n",
              "    .colab-df-buttons div {\n",
              "      margin-bottom: 4px;\n",
              "    }\n",
              "\n",
              "    [theme=dark] .colab-df-convert {\n",
              "      background-color: #3B4455;\n",
              "      fill: #D2E3FC;\n",
              "    }\n",
              "\n",
              "    [theme=dark] .colab-df-convert:hover {\n",
              "      background-color: #434B5C;\n",
              "      box-shadow: 0px 1px 3px 1px rgba(0, 0, 0, 0.15);\n",
              "      filter: drop-shadow(0px 1px 2px rgba(0, 0, 0, 0.3));\n",
              "      fill: #FFFFFF;\n",
              "    }\n",
              "  </style>\n",
              "\n",
              "    <script>\n",
              "      const buttonEl =\n",
              "        document.querySelector('#df-aa438e48-b12c-47c5-990e-71967bf8780e button.colab-df-convert');\n",
              "      buttonEl.style.display =\n",
              "        google.colab.kernel.accessAllowed ? 'block' : 'none';\n",
              "\n",
              "      async function convertToInteractive(key) {\n",
              "        const element = document.querySelector('#df-aa438e48-b12c-47c5-990e-71967bf8780e');\n",
              "        const dataTable =\n",
              "          await google.colab.kernel.invokeFunction('convertToInteractive',\n",
              "                                                    [key], {});\n",
              "        if (!dataTable) return;\n",
              "\n",
              "        const docLinkHtml = 'Like what you see? Visit the ' +\n",
              "          '<a target=\"_blank\" href=https://colab.research.google.com/notebooks/data_table.ipynb>data table notebook</a>'\n",
              "          + ' to learn more about interactive tables.';\n",
              "        element.innerHTML = '';\n",
              "        dataTable['output_type'] = 'display_data';\n",
              "        await google.colab.output.renderOutput(dataTable, element);\n",
              "        const docLink = document.createElement('div');\n",
              "        docLink.innerHTML = docLinkHtml;\n",
              "        element.appendChild(docLink);\n",
              "      }\n",
              "    </script>\n",
              "  </div>\n",
              "\n",
              "\n",
              "<div id=\"df-6ea48a57-5ffe-41f9-a0a0-b9910f34d267\">\n",
              "  <button class=\"colab-df-quickchart\" onclick=\"quickchart('df-6ea48a57-5ffe-41f9-a0a0-b9910f34d267')\"\n",
              "            title=\"Suggest charts\"\n",
              "            style=\"display:none;\">\n",
              "\n",
              "<svg xmlns=\"http://www.w3.org/2000/svg\" height=\"24px\"viewBox=\"0 0 24 24\"\n",
              "     width=\"24px\">\n",
              "    <g>\n",
              "        <path d=\"M19 3H5c-1.1 0-2 .9-2 2v14c0 1.1.9 2 2 2h14c1.1 0 2-.9 2-2V5c0-1.1-.9-2-2-2zM9 17H7v-7h2v7zm4 0h-2V7h2v10zm4 0h-2v-4h2v4z\"/>\n",
              "    </g>\n",
              "</svg>\n",
              "  </button>\n",
              "\n",
              "<style>\n",
              "  .colab-df-quickchart {\n",
              "      --bg-color: #E8F0FE;\n",
              "      --fill-color: #1967D2;\n",
              "      --hover-bg-color: #E2EBFA;\n",
              "      --hover-fill-color: #174EA6;\n",
              "      --disabled-fill-color: #AAA;\n",
              "      --disabled-bg-color: #DDD;\n",
              "  }\n",
              "\n",
              "  [theme=dark] .colab-df-quickchart {\n",
              "      --bg-color: #3B4455;\n",
              "      --fill-color: #D2E3FC;\n",
              "      --hover-bg-color: #434B5C;\n",
              "      --hover-fill-color: #FFFFFF;\n",
              "      --disabled-bg-color: #3B4455;\n",
              "      --disabled-fill-color: #666;\n",
              "  }\n",
              "\n",
              "  .colab-df-quickchart {\n",
              "    background-color: var(--bg-color);\n",
              "    border: none;\n",
              "    border-radius: 50%;\n",
              "    cursor: pointer;\n",
              "    display: none;\n",
              "    fill: var(--fill-color);\n",
              "    height: 32px;\n",
              "    padding: 0;\n",
              "    width: 32px;\n",
              "  }\n",
              "\n",
              "  .colab-df-quickchart:hover {\n",
              "    background-color: var(--hover-bg-color);\n",
              "    box-shadow: 0 1px 2px rgba(60, 64, 67, 0.3), 0 1px 3px 1px rgba(60, 64, 67, 0.15);\n",
              "    fill: var(--button-hover-fill-color);\n",
              "  }\n",
              "\n",
              "  .colab-df-quickchart-complete:disabled,\n",
              "  .colab-df-quickchart-complete:disabled:hover {\n",
              "    background-color: var(--disabled-bg-color);\n",
              "    fill: var(--disabled-fill-color);\n",
              "    box-shadow: none;\n",
              "  }\n",
              "\n",
              "  .colab-df-spinner {\n",
              "    border: 2px solid var(--fill-color);\n",
              "    border-color: transparent;\n",
              "    border-bottom-color: var(--fill-color);\n",
              "    animation:\n",
              "      spin 1s steps(1) infinite;\n",
              "  }\n",
              "\n",
              "  @keyframes spin {\n",
              "    0% {\n",
              "      border-color: transparent;\n",
              "      border-bottom-color: var(--fill-color);\n",
              "      border-left-color: var(--fill-color);\n",
              "    }\n",
              "    20% {\n",
              "      border-color: transparent;\n",
              "      border-left-color: var(--fill-color);\n",
              "      border-top-color: var(--fill-color);\n",
              "    }\n",
              "    30% {\n",
              "      border-color: transparent;\n",
              "      border-left-color: var(--fill-color);\n",
              "      border-top-color: var(--fill-color);\n",
              "      border-right-color: var(--fill-color);\n",
              "    }\n",
              "    40% {\n",
              "      border-color: transparent;\n",
              "      border-right-color: var(--fill-color);\n",
              "      border-top-color: var(--fill-color);\n",
              "    }\n",
              "    60% {\n",
              "      border-color: transparent;\n",
              "      border-right-color: var(--fill-color);\n",
              "    }\n",
              "    80% {\n",
              "      border-color: transparent;\n",
              "      border-right-color: var(--fill-color);\n",
              "      border-bottom-color: var(--fill-color);\n",
              "    }\n",
              "    90% {\n",
              "      border-color: transparent;\n",
              "      border-bottom-color: var(--fill-color);\n",
              "    }\n",
              "  }\n",
              "</style>\n",
              "\n",
              "  <script>\n",
              "    async function quickchart(key) {\n",
              "      const quickchartButtonEl =\n",
              "        document.querySelector('#' + key + ' button');\n",
              "      quickchartButtonEl.disabled = true;  // To prevent multiple clicks.\n",
              "      quickchartButtonEl.classList.add('colab-df-spinner');\n",
              "      try {\n",
              "        const charts = await google.colab.kernel.invokeFunction(\n",
              "            'suggestCharts', [key], {});\n",
              "      } catch (error) {\n",
              "        console.error('Error during call to suggestCharts:', error);\n",
              "      }\n",
              "      quickchartButtonEl.classList.remove('colab-df-spinner');\n",
              "      quickchartButtonEl.classList.add('colab-df-quickchart-complete');\n",
              "    }\n",
              "    (() => {\n",
              "      let quickchartButtonEl =\n",
              "        document.querySelector('#df-6ea48a57-5ffe-41f9-a0a0-b9910f34d267 button');\n",
              "      quickchartButtonEl.style.display =\n",
              "        google.colab.kernel.accessAllowed ? 'block' : 'none';\n",
              "    })();\n",
              "  </script>\n",
              "</div>\n",
              "\n",
              "    </div>\n",
              "  </div>\n"
            ],
            "application/vnd.google.colaboratory.intrinsic+json": {
              "type": "dataframe",
              "variable_name": "df",
              "summary": "{\n  \"name\": \"df\",\n  \"rows\": 10000,\n  \"fields\": [\n    {\n      \"column\": \"Employee_ID\",\n      \"properties\": {\n        \"dtype\": \"number\",\n        \"std\": 2886,\n        \"min\": 10001,\n        \"max\": 20000,\n        \"num_unique_values\": 10000,\n        \"samples\": [\n          16253,\n          14685,\n          11732\n        ],\n        \"semantic_type\": \"\",\n        \"description\": \"\"\n      }\n    },\n    {\n      \"column\": \"Name\",\n      \"properties\": {\n        \"dtype\": \"category\",\n        \"num_unique_values\": 10,\n        \"samples\": [\n          \"Alice\",\n          \"David\",\n          \"Charlie\"\n        ],\n        \"semantic_type\": \"\",\n        \"description\": \"\"\n      }\n    },\n    {\n      \"column\": \"Age\",\n      \"properties\": {\n        \"dtype\": \"number\",\n        \"std\": 12,\n        \"min\": 22,\n        \"max\": 64,\n        \"num_unique_values\": 43,\n        \"samples\": [\n          22,\n          37,\n          25\n        ],\n        \"semantic_type\": \"\",\n        \"description\": \"\"\n      }\n    },\n    {\n      \"column\": \"Department\",\n      \"properties\": {\n        \"dtype\": \"category\",\n        \"num_unique_values\": 6,\n        \"samples\": [\n          \"Sales\",\n          \"IT\",\n          \"Finance\"\n        ],\n        \"semantic_type\": \"\",\n        \"description\": \"\"\n      }\n    },\n    {\n      \"column\": \"Salary ($)\",\n      \"properties\": {\n        \"dtype\": \"number\",\n        \"std\": 49000,\n        \"min\": 15000,\n        \"max\": 500000,\n        \"num_unique_values\": 9681,\n        \"samples\": [\n          110744,\n          113758,\n          132190\n        ],\n        \"semantic_type\": \"\",\n        \"description\": \"\"\n      }\n    },\n    {\n      \"column\": \"Join_Date\",\n      \"properties\": {\n        \"dtype\": \"object\",\n        \"num_unique_values\": 5533,\n        \"samples\": [\n          \"2008-02-12\",\n          \"2021-11-01\",\n          \"2007-11-10\"\n        ],\n        \"semantic_type\": \"\",\n        \"description\": \"\"\n      }\n    },\n    {\n      \"column\": \"Performance_Score\",\n      \"properties\": {\n        \"dtype\": \"number\",\n        \"std\": 2,\n        \"min\": 1,\n        \"max\": 10,\n        \"num_unique_values\": 10,\n        \"samples\": [\n          6,\n          8,\n          10\n        ],\n        \"semantic_type\": \"\",\n        \"description\": \"\"\n      }\n    },\n    {\n      \"column\": \"Promoted\",\n      \"properties\": {\n        \"dtype\": \"category\",\n        \"num_unique_values\": 2,\n        \"samples\": [\n          \"Yes\",\n          \"No\"\n        ],\n        \"semantic_type\": \"\",\n        \"description\": \"\"\n      }\n    },\n    {\n      \"column\": \"Work_Location\",\n      \"properties\": {\n        \"dtype\": \"category\",\n        \"num_unique_values\": 3,\n        \"samples\": [\n          \"Hybrid\",\n          \"Remote\"\n        ],\n        \"semantic_type\": \"\",\n        \"description\": \"\"\n      }\n    },\n    {\n      \"column\": \"Employment_Type\",\n      \"properties\": {\n        \"dtype\": \"category\",\n        \"num_unique_values\": 3,\n        \"samples\": [\n          \"Full-time\",\n          \"Contract\"\n        ],\n        \"semantic_type\": \"\",\n        \"description\": \"\"\n      }\n    }\n  ]\n}"
            }
          },
          "metadata": {},
          "execution_count": 1
        }
      ],
      "source": [
        "import pandas as pd\n",
        "df = pd.read_csv('/content/employee_records.csv')\n",
        "df.head()"
      ]
    },
    {
      "cell_type": "markdown",
      "source": [
        "# 1️⃣ Basic Data Exploration"
      ],
      "metadata": {
        "id": "QcUDhNGrPT0Z"
      }
    },
    {
      "cell_type": "code",
      "source": [
        "df.info()\n",
        "df.shape\n",
        "df.describe()\n",
        "df.dtypes\n",
        "df.columns"
      ],
      "metadata": {
        "colab": {
          "base_uri": "https://localhost:8080/"
        },
        "id": "_RnihLAfIJZE",
        "outputId": "e7d77a45-5091-4976-9a41-bcfdf0d1ccc8"
      },
      "execution_count": 2,
      "outputs": [
        {
          "output_type": "stream",
          "name": "stdout",
          "text": [
            "<class 'pandas.core.frame.DataFrame'>\n",
            "RangeIndex: 10000 entries, 0 to 9999\n",
            "Data columns (total 10 columns):\n",
            " #   Column             Non-Null Count  Dtype \n",
            "---  ------             --------------  ----- \n",
            " 0   Employee_ID        10000 non-null  int64 \n",
            " 1   Name               10000 non-null  object\n",
            " 2   Age                10000 non-null  int64 \n",
            " 3   Department         10000 non-null  object\n",
            " 4   Salary ($)         10000 non-null  int64 \n",
            " 5   Join_Date          10000 non-null  object\n",
            " 6   Performance_Score  10000 non-null  int64 \n",
            " 7   Promoted           10000 non-null  object\n",
            " 8   Work_Location      10000 non-null  object\n",
            " 9   Employment_Type    10000 non-null  object\n",
            "dtypes: int64(4), object(6)\n",
            "memory usage: 781.4+ KB\n"
          ]
        },
        {
          "output_type": "execute_result",
          "data": {
            "text/plain": [
              "Index(['Employee_ID', 'Name', 'Age', 'Department', 'Salary ($)', 'Join_Date',\n",
              "       'Performance_Score', 'Promoted', 'Work_Location', 'Employment_Type'],\n",
              "      dtype='object')"
            ]
          },
          "metadata": {},
          "execution_count": 2
        }
      ]
    },
    {
      "cell_type": "code",
      "source": [
        "# converting column names to snale case\n",
        "df.columns = df.columns.str.lower().str.replace(' ($)', '').str.replace(' ', '_')\n",
        "df.columns"
      ],
      "metadata": {
        "colab": {
          "base_uri": "https://localhost:8080/"
        },
        "id": "ybezf3d2Ohgw",
        "outputId": "e72eb312-f282-43cd-9b4b-e4db9758862d"
      },
      "execution_count": 4,
      "outputs": [
        {
          "output_type": "execute_result",
          "data": {
            "text/plain": [
              "Index(['employee_id', 'name', 'age', 'department', 'salary', 'join_date',\n",
              "       'performance_score', 'promoted', 'work_location', 'employment_type'],\n",
              "      dtype='object')"
            ]
          },
          "metadata": {},
          "execution_count": 4
        }
      ]
    },
    {
      "cell_type": "code",
      "source": [
        "df['join_date'] = pd.to_datetime(df['join_date'])\n",
        "df['join_month'] = df['join_date'].dt.month_name()\n",
        "df['join_year'] = df['join_date'].dt.year"
      ],
      "metadata": {
        "id": "GRPHOtEoUHkQ"
      },
      "execution_count": 15,
      "outputs": []
    },
    {
      "cell_type": "code",
      "source": [
        "# Count the number of employees in each department.\n",
        "print(df['department'].value_counts())\n",
        "# Find the average salary of all employees.\n",
        "print(df['salary'].mean())\n",
        "# Find the highest and lowest salaries.\n",
        "print(df['salary'].max(), df['salary'].min())"
      ],
      "metadata": {
        "colab": {
          "base_uri": "https://localhost:8080/"
        },
        "id": "XuEhZd3kPDEB",
        "outputId": "1302e2af-9a11-47ee-aa97-8e3b4b0c00a7"
      },
      "execution_count": 16,
      "outputs": [
        {
          "output_type": "stream",
          "name": "stdout",
          "text": [
            "department\n",
            "Marketing      1759\n",
            "Finance        1699\n",
            "HR             1645\n",
            "IT             1644\n",
            "Engineering    1638\n",
            "Sales          1615\n",
            "Name: count, dtype: int64\n",
            "114816.647\n",
            "500000 15000\n"
          ]
        }
      ]
    },
    {
      "cell_type": "code",
      "source": [
        "for column in ['department', 'work_location', 'employment_type']:\n",
        "    df[column] = df[column].str.lower()"
      ],
      "metadata": {
        "id": "PlIkp2aQgYHo"
      },
      "execution_count": 31,
      "outputs": []
    },
    {
      "cell_type": "markdown",
      "source": [
        "# 2️⃣ Filtering Based on Conditions"
      ],
      "metadata": {
        "id": "z70cJhmcTIQw"
      }
    },
    {
      "cell_type": "code",
      "source": [
        "# Select all employees in the IT department.\n",
        "it_dept_employees = df[df['department'] == 'it']\n",
        "print(f'There are {it_dept_employees.shape[0]} IT employees')\n",
        "\n",
        "# Extract employees older than 50 years\n",
        "employees_over_50 = df[df['age'] > 50]\n",
        "print(f'There are {employees_over_50.shape[0]} employees older the 50 years' )\n",
        "\n",
        "# Find employees earning more than $100,000.\n",
        "over_100k_earners = df[df['salary'] > 100000]\n",
        "print(f'{over_100k_earners.shape[0]} employees earn over $100,000')\n",
        "\n",
        "# Get all employees who joined before 2015.\n",
        "employed_before_2015 = df[df['join_year'] < 2015]\n",
        "print(f'{employed_before_2015.shape[0]} employees were employed before 2015')\n",
        "\n",
        "performance_over_8 = df[df['performance_score'] > 8]\n",
        "print(f'{performance_over_8.shape[0]} employees have a performance score over 8')\n"
      ],
      "metadata": {
        "colab": {
          "base_uri": "https://localhost:8080/"
        },
        "id": "I7U_MF4GTTVv",
        "outputId": "3d41aefb-94b8-475a-ec1b-a3091b7f3c32"
      },
      "execution_count": 33,
      "outputs": [
        {
          "output_type": "stream",
          "name": "stdout",
          "text": [
            "There are 1644 IT employees\n",
            "There are 3125 employees older the 50 years\n",
            "5843 employees earn over $100,000\n",
            "5650 employees were employed before 2015\n",
            "2021 employees have a performance score over 8\n"
          ]
        }
      ]
    },
    {
      "cell_type": "markdown",
      "source": [
        "# 3️⃣ Advanced Filtering"
      ],
      "metadata": {
        "id": "yvFDpeopZI5P"
      }
    },
    {
      "cell_type": "code",
      "source": [
        "# Find all HR employees working remotely\n",
        "remote_hr = df[(df['work_location'] == 'remote') & (df['department'] == 'hr')]\n",
        "print(f'{remote_hr.shape[0]} HR employees work remotely')\n",
        "\n",
        "# Get Engineering employees who are Full-time and earn more than $120,000.\n",
        "fulltime_engineers_over_120k = df[\n",
        "    (df['department'] == 'engineering') &\n",
        "    (df['employment_type'] == 'full-time') &\n",
        "    (df['salary'] > 120000)]\n",
        "print(f'{fulltime_engineers_over_120k.shape[0]} Full-time engineers earn over $120,000')"
      ],
      "metadata": {
        "colab": {
          "base_uri": "https://localhost:8080/"
        },
        "id": "0UUGMoC3YLB_",
        "outputId": "2a8ae9c4-4de0-4891-f74a-9f05fd0c4c9f"
      },
      "execution_count": 34,
      "outputs": [
        {
          "output_type": "stream",
          "name": "stdout",
          "text": [
            "555 HR employees work remotely\n",
            "246 Full-time engineers earn over $120,000\n"
          ]
        }
      ]
    },
    {
      "cell_type": "code",
      "source": [
        "df['department'].unique()"
      ],
      "metadata": {
        "colab": {
          "base_uri": "https://localhost:8080/"
        },
        "id": "H7Bk8UfVaFUO",
        "outputId": "9e184ee3-53b3-4b76-808f-64dcef290a96"
      },
      "execution_count": 26,
      "outputs": [
        {
          "output_type": "execute_result",
          "data": {
            "text/plain": [
              "array(['Sales', 'IT', 'Marketing', 'HR', 'Engineering', 'Finance'],\n",
              "      dtype=object)"
            ]
          },
          "metadata": {},
          "execution_count": 26
        }
      ]
    },
    {
      "cell_type": "code",
      "source": [],
      "metadata": {
        "id": "IucLyVacbkOu"
      },
      "execution_count": null,
      "outputs": []
    }
  ]
}