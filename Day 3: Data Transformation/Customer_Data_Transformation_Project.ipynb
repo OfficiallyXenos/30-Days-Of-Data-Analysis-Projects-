{
  "cells": [
    {
      "cell_type": "code",
      "execution_count": 53,
      "metadata": {
        "colab": {
          "base_uri": "https://localhost:8080/"
        },
        "id": "dH-njHSyj_j4",
        "outputId": "1d09bebe-b6db-46f7-891d-2627b2145257"
      },
      "outputs": [
        {
          "output_type": "execute_result",
          "data": {
            "text/plain": [
              "Index(['transaction_id', 'customer_id', 'product_category', 'product_name',\n",
              "       'quantity', 'unit_price', 'total_price', 'discount_applied',\n",
              "       'purchase_date', 'payment_method'],\n",
              "      dtype='object')"
            ]
          },
          "metadata": {},
          "execution_count": 53
        }
      ],
      "source": [
        "import pandas as pd\n",
        "df = pd.read_csv('/content/customer_transactions.csv')\n",
        "\n",
        "# convert all column names to snake case\n",
        "df.columns = df.columns.str.lower().str.replace(' ($)', '').str.replace(' (%)', '').str.replace(' ', '_')\n",
        "df.columns"
      ]
    },
    {
      "cell_type": "code",
      "execution_count": 54,
      "metadata": {
        "colab": {
          "base_uri": "https://localhost:8080/"
        },
        "collapsed": true,
        "id": "7ISdHu5LpTHp",
        "outputId": "f12473cc-b3ad-4ac9-91e1-6743063eb039"
      },
      "outputs": [
        {
          "output_type": "execute_result",
          "data": {
            "text/plain": [
              "array(['bank_transfer', 'credit_card', 'paypal'], dtype=object)"
            ]
          },
          "metadata": {},
          "execution_count": 54
        }
      ],
      "source": [
        "# converting the date column to datetime format\n",
        "df['purchase_date'] = pd.to_datetime(\n",
        "    df['purchase_date'], format='mixed', dayfirst= False\n",
        "    )\n",
        "\n",
        "# converted payment methods to snakecase\n",
        "df['payment_method'] = df['payment_method'].str.lower().str.replace(' ', '_')\n",
        "df['payment_method'].unique()"
      ]
    },
    {
      "cell_type": "markdown",
      "metadata": {
        "id": "I0Y5agj7jfp8"
      },
      "source": [
        "# 2️⃣ Creating & Modifying Columns"
      ]
    },
    {
      "cell_type": "code",
      "execution_count": 54,
      "metadata": {
        "id": "fjhHnXDljhZE"
      },
      "outputs": [],
      "source": []
    }
  ],
  "metadata": {
    "colab": {
      "provenance": [],
      "authorship_tag": "ABX9TyMq2uxPgKt4/aUERXAuYy6k"
    },
    "kernelspec": {
      "display_name": "Python 3",
      "name": "python3"
    },
    "language_info": {
      "name": "python"
    }
  },
  "nbformat": 4,
  "nbformat_minor": 0
}